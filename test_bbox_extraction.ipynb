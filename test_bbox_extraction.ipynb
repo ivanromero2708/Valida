{
 "cells": [
  {
   "cell_type": "code",
   "execution_count": 2,
   "id": "aafe1a52",
   "metadata": {},
   "outputs": [],
   "source": [
    "import os, re, json, base64\n",
    "from pathlib import Path\n",
    "import fitz  # PyMuPDF\n",
    "from typing import List, Optional, Dict, Any\n",
    "\n",
    "from mistralai import Mistral\n",
    "\n",
    "def _create_mistral_client() -> Mistral:\n",
    "    api_key = os.getenv(\"MISTRAL_API_KEY\")\n",
    "    if not api_key:\n",
    "        raise EnvironmentError(\"Defina MISTRAL_API_KEY en el entorno\")\n",
    "    return Mistral(api_key=api_key, timeout_ms=300000)\n",
    "\n",
    "client = _create_mistral_client()\n",
    "\n",
    "import base64\n",
    "\n",
    "def encode_pdf(pdf_path):\n",
    "    \"\"\"Encode the pdf to base64.\"\"\"\n",
    "    try:\n",
    "        with open(pdf_path, \"rb\") as pdf_file:\n",
    "            return base64.b64encode(pdf_file.read()).decode('utf-8')\n",
    "    except FileNotFoundError:\n",
    "        print(f\"Error: The file {pdf_path} was not found.\")\n",
    "        return None\n",
    "    except Exception as e:  # Added general exception handling\n",
    "        print(f\"Error: {e}\")\n",
    "        return None\n",
    "\n",
    "\n",
    "from pydantic import BaseModel, Field\n",
    "from enum import Enum\n",
    "from mistralai.extra import response_format_from_pydantic_model\n",
    "\n",
    "class ImageType(str, Enum):\n",
    "    GRAPH = \"graph\"\n",
    "    TEXT = \"text\"\n",
    "    TABLE = \"table\"\n",
    "    IMAGE = \"image\"\n",
    "\n",
    "class Image(BaseModel):\n",
    "    image_type: ImageType = Field(..., description=\"The type of the image. Must be one of 'graph', 'text', 'table' or 'image'.\")\n",
    "    description: str = Field(..., description=\"A description of the image.\")\n",
    "\n",
    "class Document(BaseModel):\n",
    "    language: str = Field(..., description=\"The language of the document in ISO 639-1 code format (e.g., 'en', 'fr').\")\n",
    "    summary: str = Field(..., description=\"A summary of the document.\")\n",
    "    authors: list[str] = Field(..., description=\"A list of authors who contributed to the document.\")\n",
    "\n",
    "from src.config.models.set_10 import Set10ExtractionModel\n",
    "\n",
    "def process_ocr_mistral(pdf_path, extraction_model):\n",
    "    # Getting the base64 string\n",
    "    base64_pdf = encode_pdf(pdf_path)\n",
    "\n",
    "    # Call the OCR API\n",
    "    pdf_response = client.ocr.process(\n",
    "        model=\"mistral-ocr-latest\",\n",
    "        pages=list(range(8)), # Document Annotations has a limit of 8 pages, we recommend spliting your documents when using it; bbox annotations does not have the same limit\n",
    "        document={\n",
    "            \"type\": \"document_url\",\n",
    "            \"document_url\": f\"data:application/pdf;base64,{base64_pdf}\"\n",
    "        },\n",
    "        document_annotation_format=response_format_from_pydantic_model(extraction_model),\n",
    "        include_image_base64=False # We are not interested on retrieving the bbox images in this example, only their annotations\n",
    "    )\n",
    "\n",
    "    # Convert response to JSON format\n",
    "    return pdf_response\n"
   ]
  },
  {
   "cell_type": "code",
   "execution_count": 5,
   "id": "fabc65f0",
   "metadata": {},
   "outputs": [
    {
     "ename": "AttributeError",
     "evalue": "'OCRResponse' object has no attribute 'document_annotations'",
     "output_type": "error",
     "traceback": [
      "\u001b[31m---------------------------------------------------------------------------\u001b[39m",
      "\u001b[31mAttributeError\u001b[39m                            Traceback (most recent call last)",
      "\u001b[36mCell\u001b[39m\u001b[36m \u001b[39m\u001b[32mIn[5]\u001b[39m\u001b[32m, line 13\u001b[39m\n\u001b[32m      8\u001b[39m \u001b[38;5;28;01mfrom\u001b[39;00m\u001b[38;5;250m \u001b[39m\u001b[34;01msrc\u001b[39;00m\u001b[34;01m.\u001b[39;00m\u001b[34;01mconfig\u001b[39;00m\u001b[34;01m.\u001b[39;00m\u001b[34;01mmodels\u001b[39;00m\u001b[34;01m.\u001b[39;00m\u001b[34;01mset_7\u001b[39;00m\u001b[38;5;250m \u001b[39m\u001b[38;5;28;01mimport\u001b[39;00m Set7ExtractionModel\n\u001b[32m     10\u001b[39m ocr_result = process_ocr_mistral(pdf_path_7, Set7ExtractionModel)\n\u001b[32m---> \u001b[39m\u001b[32m13\u001b[39m \u001b[38;5;28mprint\u001b[39m(json.loads(ocr_result.document_annotations))\n",
      "\u001b[36mFile \u001b[39m\u001b[32mc:\\Users\\Ivan\\.conda\\envs\\Valida\\Lib\\site-packages\\pydantic\\main.py:991\u001b[39m, in \u001b[36mBaseModel.__getattr__\u001b[39m\u001b[34m(self, item)\u001b[39m\n\u001b[32m    988\u001b[39m     \u001b[38;5;28;01mreturn\u001b[39;00m \u001b[38;5;28msuper\u001b[39m().\u001b[34m__getattribute__\u001b[39m(item)  \u001b[38;5;66;03m# Raises AttributeError if appropriate\u001b[39;00m\n\u001b[32m    989\u001b[39m \u001b[38;5;28;01melse\u001b[39;00m:\n\u001b[32m    990\u001b[39m     \u001b[38;5;66;03m# this is the current error\u001b[39;00m\n\u001b[32m--> \u001b[39m\u001b[32m991\u001b[39m     \u001b[38;5;28;01mraise\u001b[39;00m \u001b[38;5;167;01mAttributeError\u001b[39;00m(\u001b[33mf\u001b[39m\u001b[33m'\u001b[39m\u001b[38;5;132;01m{\u001b[39;00m\u001b[38;5;28mtype\u001b[39m(\u001b[38;5;28mself\u001b[39m).\u001b[34m__name__\u001b[39m\u001b[38;5;132;01m!r}\u001b[39;00m\u001b[33m object has no attribute \u001b[39m\u001b[38;5;132;01m{\u001b[39;00mitem\u001b[38;5;132;01m!r}\u001b[39;00m\u001b[33m'\u001b[39m)\n",
      "\u001b[31mAttributeError\u001b[39m: 'OCRResponse' object has no attribute 'document_annotations'"
     ]
    }
   ],
   "source": [
    "# 1) Rasteriza\n",
    "pdf_path_10 = \"C:/Users/Ivan/Documents/VALORACION/ESTABILIDAD_FASE_MOVIL/DATA_CROMATOGRAFICA_ESTABILIDAD_FASE_MOVIL/ESTABILIDAD FM T1 V1.pdf\"\n",
    "pdf_path_8 = \"C:/Users/Ivan/Documents/VALORACION/ESTABILIDAD_SOLUCIONES/REPORTE_ESTABILIDAD_SOLUCIONES/REPORTE_LIMS_ESTABILIDAD_SOLUCIONES.pdf\"\n",
    "pdf_path_7 = \"C:/Users/Ivan/Documents/VALORACION/PRECISION_INTERMEDIA/REPORTE_PRECISION_INTERMEDIA/REPORTE_LIMS_PRECISION_INTERMEDIA.pdf\"\n",
    "\n",
    "from src.config.models.set_10 import Set10ExtractionModel\n",
    "from src.config.models.set_8 import Set8ExtractionModel\n",
    "from src.config.models.set_7 import Set7ExtractionModel\n",
    "\n",
    "ocr_result = process_ocr_mistral(pdf_path_7, Set7ExtractionModel)\n",
    "\n",
    "\n",
    "print(json.loads(ocr_result.document_annotations))\n"
   ]
  },
  {
   "cell_type": "code",
   "execution_count": null,
   "id": "fa6a899f",
   "metadata": {},
   "outputs": [],
   "source": []
  },
  {
   "cell_type": "code",
   "execution_count": null,
   "id": "a110543e",
   "metadata": {},
   "outputs": [],
   "source": []
  },
  {
   "cell_type": "code",
   "execution_count": 1,
   "id": "3c0da682",
   "metadata": {},
   "outputs": [
    {
     "name": "stdout",
     "output_type": "stream",
     "text": [
      "{\n",
      "  \"regresion_png_path\": \"c:\\\\Users\\\\Ivan\\\\Documents\\\\IR Consulting\\\\Valida\\\\src\\\\images\\\\linealidad_regresion_0ebcfdb2-41ad-4c2d-903c-e2a6b7a25663.png\",\n",
      "  \"residuales_png_path\": \"c:\\\\Users\\\\Ivan\\\\Documents\\\\IR Consulting\\\\Valida\\\\src\\\\images\\\\linealidad_residuales_263cf5e9-1238-4cd6-bd52-2a10150f4bb2.png\"\n",
      "}\n"
     ]
    }
   ],
   "source": [
    "\n",
    "import json\n",
    "from src.tools.linealidad_tool import LinearidadTool\n",
    "import os\n",
    "\n",
    "params = {\n",
    "    \"concentracion\": [0.011979992, 0.011979992, 0.011979992, 0.017969988, 0.017969988, 0.017969988, 0.023959984, 0.023959984, 0.023959984, 0.02994998, 0.02994998, 0.02994998, 0.035939976, 0.035939976, 0.035939976],\n",
    "    \"area_pico\": [7.384313887, 7.389636488, 7.405480641, 11.11360372, 11.1339833, 11.15028289, 14.75781586, 14.76604324, 14.76306989, 18.44529736, 18.4664459, 18.47933245, 22.15107203, 22.12680985, 22.14509776],\n",
    "    \"devolver_base64\": False,\n",
    "    \"nombre_analito\": \"Hidrocodona\"\n",
    "}\n",
    "\n",
    "result = LinearidadTool()._run(**params)\n",
    "print(result)\n"
   ]
  },
  {
   "cell_type": "code",
   "execution_count": 2,
   "id": "52a887e0",
   "metadata": {},
   "outputs": [
    {
     "name": "stdout",
     "output_type": "stream",
     "text": [
      "{\n",
      "  \"regresion_png_path\": \"c:\\\\Users\\\\Ivan\\\\Documents\\\\IR Consulting\\\\Valida\\\\src\\\\images\\\\linealidad_regresion_dc42a3ef-18b9-4e14-af6a-67c088ca78e7.png\",\n",
      "  \"residuales_png_path\": \"c:\\\\Users\\\\Ivan\\\\Documents\\\\IR Consulting\\\\Valida\\\\src\\\\images\\\\linealidad_residuales_ed87be9a-489c-4ecc-84e0-df518b7496fa.png\"\n",
      "}\n",
      "{\n",
      "  \"regresion_png_path\": \"c:\\\\Users\\\\Ivan\\\\Documents\\\\IR Consulting\\\\Valida\\\\src\\\\images\\\\linealidad_regresion_54e54f6a-df93-44ff-a0a6-fbf1b9085761.png\",\n",
      "  \"residuales_png_path\": \"c:\\\\Users\\\\Ivan\\\\Documents\\\\IR Consulting\\\\Valida\\\\src\\\\images\\\\linealidad_residuales_08854a59-f3ba-441e-a953-82faf8558072.png\"\n",
      "}\n"
     ]
    }
   ],
   "source": [
    "\n",
    "from concurrent.futures import ThreadPoolExecutor\n",
    "from src.tools.linealidad_tool import LinearidadTool\n",
    "\n",
    "input1 = dict(\n",
    "    concentracion=[0.390520944,0.390520944,0.390520944,0.585781416,0.585781416,0.585781416,0.781041888,0.781041888,0.781041888,0.97630236,0.97630236,0.97630236,1.171562832,1.171562832,1.171562832],\n",
    "    area_pico=[28.34025136,28.33240449,28.3559417,42.12384439,42.1629014,42.14551766,55.61232423,55.59917092,55.6129532,69.10763656,69.12511413,69.15910298,84.21662857,84.22366482,84.14363356],\n",
    "    devolver_base64=False,\n",
    "    nombre_analito=\"Acetaminofen\"\n",
    ")\n",
    "\n",
    "input2 = dict(\n",
    "    concentracion=[0.011979992,0.011979992,0.011979992,0.017969988,0.017969988,0.017969988,0.023959984,0.023959984,0.023959984,0.02994998,0.02994998,0.02994998,0.035939976,0.035939976,0.035939976],\n",
    "    area_pico=[7.384313887,7.389636488,7.405480641,11.11360372,11.1339833,11.15028289,14.75781586,14.76604324,14.76306989,18.44529736,18.4664459,18.47933245,22.15107203,22.12680985,22.14509776],\n",
    "    devolver_base64=False,\n",
    "    nombre_analito=\"Hidrocodona\"\n",
    ")\n",
    "\n",
    "tool = LinearidadTool()\n",
    "\n",
    "def call(params):\n",
    "    return tool._run(**params)\n",
    "\n",
    "with ThreadPoolExecutor(max_workers=2) as executor:\n",
    "    futures = [executor.submit(call, input1), executor.submit(call, input2)]\n",
    "\n",
    "for f in futures:\n",
    "    print(f.result())\n"
   ]
  },
  {
   "cell_type": "code",
   "execution_count": 3,
   "id": "90ff943d",
   "metadata": {},
   "outputs": [
    {
     "name": "stdout",
     "output_type": "stream",
     "text": [
      "Resultado 1: {'regresion_png_path': 'c:\\\\Users\\\\Ivan\\\\Documents\\\\IR Consulting\\\\Valida\\\\src\\\\images\\\\linealidad_regresion_7069c3b2-19b9-4021-862c-db6494bddaf8.png', 'residuales_png_path': 'c:\\\\Users\\\\Ivan\\\\Documents\\\\IR Consulting\\\\Valida\\\\src\\\\images\\\\linealidad_residuales_e20428d8-c023-4fde-9f52-5a604e662481.png'}\n",
      "Resultado 2: {'regresion_png_path': 'c:\\\\Users\\\\Ivan\\\\Documents\\\\IR Consulting\\\\Valida\\\\src\\\\images\\\\linealidad_regresion_f3cd5807-b8ae-4b7b-a887-d16653406c93.png', 'residuales_png_path': 'c:\\\\Users\\\\Ivan\\\\Documents\\\\IR Consulting\\\\Valida\\\\src\\\\images\\\\linealidad_residuales_14943874-7be2-4b2b-bfc5-33f749c4e504.png'}\n"
     ]
    }
   ],
   "source": [
    "\n",
    "from concurrent.futures import ThreadPoolExecutor\n",
    "from src.tools.linealidad_tool import LinearidadTool\n",
    "import json\n",
    "\n",
    "input1 = dict(\n",
    "    concentracion=[0.390520944,0.390520944,0.390520944,0.585781416,0.585781416,0.585781416,0.781041888,0.781041888,0.781041888,0.97630236,0.97630236,0.97630236,1.171562832,1.171562832,1.171562832],\n",
    "    area_pico=[28.34025136,28.33240449,28.3559417,42.12384439,42.1629014,42.14551766,55.61232423,55.59917092,55.6129532,69.10763656,69.12511413,69.15910298,84.21662857,84.22366482,84.14363356],\n",
    "    devolver_base64=False,\n",
    "    nombre_analito=\"Acetaminofen\"\n",
    ")\n",
    "\n",
    "input2 = dict(\n",
    "    concentracion=[0.011979992,0.011979992,0.011979992,0.017969988,0.017969988,0.017969988,0.023959984,0.023959984,0.023959984,0.02994998,0.02994998,0.02994998,0.035939976,0.035939976,0.035939976],\n",
    "    area_pico=[7.384313887,7.389636488,7.405480641,11.11360372,11.1339833,11.15028289,14.75781586,14.76604324,14.76306989,18.44529736,18.4664459,18.47933245,22.15107203,22.12680985,22.14509776],\n",
    "    devolver_base64=False,\n",
    "    nombre_analito=\"Hidrocodona\"\n",
    ")\n",
    "\n",
    "def call(params):\n",
    "    tool = LinearidadTool()\n",
    "    return json.loads(tool._run(**params))\n",
    "\n",
    "with ThreadPoolExecutor(max_workers=2) as executor:\n",
    "    futures = [executor.submit(call, input1), executor.submit(call, input2)]\n",
    "\n",
    "for idx, f in enumerate(futures, 1):\n",
    "    print(f\"Resultado {idx}:\", f.result())\n"
   ]
  },
  {
   "cell_type": "code",
   "execution_count": 5,
   "id": "4a6471ec",
   "metadata": {},
   "outputs": [
    {
     "name": "stdout",
     "output_type": "stream",
     "text": [
      "Resultado 1: {'regresion_png_path': 'c:\\\\Users\\\\Ivan\\\\Documents\\\\IR Consulting\\\\Valida\\\\src\\\\images\\\\linealidad_regresion_2be1ec93-5311-415a-81d5-4cd9bd508e3b.png', 'residuales_png_path': 'c:\\\\Users\\\\Ivan\\\\Documents\\\\IR Consulting\\\\Valida\\\\src\\\\images\\\\linealidad_residuales_352be113-cb50-43fb-9889-d7e1091c4230.png'}\n",
      "Resultado 2: {'regresion_png_path': 'c:\\\\Users\\\\Ivan\\\\Documents\\\\IR Consulting\\\\Valida\\\\src\\\\images\\\\linealidad_regresion_744bda45-c889-4957-a73c-d3ddccdfba7f.png', 'residuales_png_path': 'c:\\\\Users\\\\Ivan\\\\Documents\\\\IR Consulting\\\\Valida\\\\src\\\\images\\\\linealidad_residuales_e0157a70-12ce-40fc-911f-f12b22612191.png'}\n"
     ]
    }
   ],
   "source": [
    "\n",
    "from src.tools.linealidad_tool import LinearidadTool\n",
    "import json\n",
    "\n",
    "inputs = [\n",
    "    dict(\n",
    "        concentracion=[0.390520944,0.390520944,0.390520944,0.585781416,0.585781416,0.585781416,0.781041888,0.781041888,0.781041888,0.97630236,0.97630236,0.97630236,1.171562832,1.171562832,1.171562832],\n",
    "        area_pico=[28.34025136,28.33240449,28.3559417,42.12384439,42.1629014,42.14551766,55.61232423,55.59917092,55.6129532,69.10763656,69.12511413,69.15910298,84.21662857,84.22366482,84.14363356],\n",
    "        devolver_base64=False,\n",
    "        nombre_analito=\"Acetaminofen\"\n",
    "    ),\n",
    "    dict(\n",
    "        concentracion=[0.011979992,0.011979992,0.011979992,0.017969988,0.017969988,0.017969988,0.023959984,0.023959984,0.023959984,0.02994998,0.02994998,0.02994998,0.035939976,0.035939976,0.035939976],\n",
    "        area_pico=[7.384313887,7.389636488,7.405480641,11.11360372,11.1339833,11.15028289,14.75781586,14.76604324,14.76306989,18.44529736,18.4664459,18.47933245,22.15107203,22.12680985,22.14509776],\n",
    "        devolver_base64=False,\n",
    "        nombre_analito=\"Hidrocodona\"\n",
    "    )\n",
    "]\n",
    "\n",
    "tool = LinearidadTool()\n",
    "for idx, params in enumerate(inputs, 1):\n",
    "    result = json.loads(tool._run(**params))\n",
    "    print(f\"Resultado {idx}: {result}\")\n"
   ]
  },
  {
   "cell_type": "code",
   "execution_count": null,
   "id": "71182f40",
   "metadata": {},
   "outputs": [],
   "source": []
  }
 ],
 "metadata": {
  "kernelspec": {
   "display_name": "Valida",
   "language": "python",
   "name": "python3"
  },
  "language_info": {
   "codemirror_mode": {
    "name": "ipython",
    "version": 3
   },
   "file_extension": ".py",
   "mimetype": "text/x-python",
   "name": "python",
   "nbconvert_exporter": "python",
   "pygments_lexer": "ipython3",
   "version": "3.13.5"
  }
 },
 "nbformat": 4,
 "nbformat_minor": 5
}
