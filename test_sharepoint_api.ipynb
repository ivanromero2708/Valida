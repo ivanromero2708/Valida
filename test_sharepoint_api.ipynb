{
 "cells": [
  {
   "cell_type": "code",
   "execution_count": 1,
   "id": "858dc0eb",
   "metadata": {},
   "outputs": [],
   "source": [
    "import os\n",
    "from dotenv import load_dotenv\n",
    "from src.utils.sharepoint_api import SharePointClient\n",
    "\n",
    "# Load environment variables from .env file\n",
    "\n",
    "load_dotenv()\n",
    "\n",
    "# Retrieval of variables from environment variables\n",
    "tenant_id = os.getenv('TENANT_ID')\n",
    "client_id = os.getenv('CLIENT_ID')\n",
    "client_secret = os.getenv('CLIENT_SECRET')\n",
    "site_url = os.getenv('SITE_URL')\n",
    "resource = os.getenv('RESOURCE')\n",
    "\n",
    "\n",
    "client = SharePointClient(tenant_id, client_id, client_secret, resource)"
   ]
  },
  {
   "cell_type": "code",
   "execution_count": 2,
   "id": "c8e36740",
   "metadata": {},
   "outputs": [
    {
     "data": {
      "text/plain": [
       "'eyJ0eXAiOiJKV1QiLCJub25jZSI6Inl1cUhNT0k0aUhHWk9ZWmgzSjFvdGxyYkhQZzJxWVBnRUtqc2doTWEyQW8iLCJhbGciOiJSUzI1NiIsIng1dCI6IkhTMjNiN0RvN1RjYVUxUm9MSHdwSXEyNFZZZyIsImtpZCI6IkhTMjNiN0RvN1RjYVUxUm9MSHdwSXEyNFZZZyJ9.eyJhdWQiOiJodHRwczovL2dyYXBoLm1pY3Jvc29mdC5jb20iLCJpc3MiOiJodHRwczovL3N0cy53aW5kb3dzLm5ldC81ZjdhNGZhZC00MTVmLTRlYTEtYjExNS1mN2I2MzhiZGJkZDgvIiwiaWF0IjoxNzU5ODQ3MzcwLCJuYmYiOjE3NTk4NDczNzAsImV4cCI6MTc1OTg1MTI3MCwiYWlvIjoiazJKZ1lLZ010TmpnbnJiVDRuTlFjOFQxNWIzNUFBPT0iLCJhcHBfZGlzcGxheW5hbWUiOiJ2YWxpZGEgYWdlbnQiLCJhcHBpZCI6IjY3MDVlNzA4LTFiYjctNDY2YS04Yjg4LTA3NzdlNDRmZWQ1YSIsImFwcGlkYWNyIjoiMSIsImlkcCI6Imh0dHBzOi8vc3RzLndpbmRvd3MubmV0LzVmN2E0ZmFkLTQxNWYtNGVhMS1iMTE1LWY3YjYzOGJkYmRkOC8iLCJpZHR5cCI6ImFwcCIsIm9pZCI6ImU1YmNhZmM1LTI4ODAtNGE3ZS04ZTYzLTFjYTE1YTc2ZmZhMiIsInJoIjoiMS5BU1VBclU5NlgxOUJvVTZ4RmZlMk9MMjkyQU1BQUFBQUFBQUF3QUFBQUFBQUFBRHRBQUFsQUEuIiwicm9sZXMiOlsiU2l0ZXMuU2VsZWN0ZWQiXSwic3ViIjoiZTViY2FmYzUtMjg4MC00YTdlLThlNjMtMWNhMTVhNzZmZmEyIiwidGVuYW50X3JlZ2lvbl9zY29wZSI6IlNBIiwidGlkIjoiNWY3YTRmYWQtNDE1Zi00ZWExLWIxMTUtZjdiNjM4YmRiZGQ4IiwidXRpIjoiek5hSlRaSnZUMG1KdVdOZFE0OXdBQSIsInZlciI6IjEuMCIsIndpZHMiOlsiMDk5N2ExZDAtMGQxZC00YWNiLWI0MDgtZDVjYTczMTIxZTkwIl0sInhtc19hY2QiOjE3NTk1MzA3MTYsInhtc19hY3RfZmN0IjoiOSAzIiwieG1zX2Z0ZCI6IjRKbXV6R0Q2RThIc3RpdTc2OGZ0dmZwc1NoeTIyTnBlajVyTFlDX2NsWDBCZFhObFlYTjBMV1J6YlhNIiwieG1zX2lkcmVsIjoiMTIgNyIsInhtc19yZCI6IjAuNDJMbFlCSmlWQlVTNFdBWEV0RExqMGxLOHZMd2ExWGptZnFxLThoSG9DaW5rSUNHNC1hOTVkcW1MclBaN1VyNHBqN3BBSXB5Q0Frd00wREFBU2dOQUEiLCJ4bXNfc3ViX2ZjdCI6IjMgOSIsInhtc190Y2R0IjoxMzA4Njk1Mjc3LCJ4bXNfdG50X2ZjdCI6IjE0IDMifQ.WHjYqXKO1W1o9kmZJbCOxuyFAqe0GI3cNG_-8apxbxbw2WLwtMsECEceVWXzKYsvDDlNyT56090yuBKZjH3P-6FOdCo3UmZK2mDlsOFtHrojURTnYNwOHcl-BnJ5XEarIlO31bIai85I0w7dD-pwJUcu0iuP8O-Kwn9jLMG_q6qz2brhgxvN4rBXFYL2KR4adSy8X5s_xsc32HV6imCHkm4S5lHvvjJXcBWHHiGRqtO4XcXbVL-WB92hU5fGl1TBdl43pgTiwjLCL9hshpJip0mxIljTg-NLcNmEWkHmIsjsaYwVz-YwQMZHEZwddrCf1R0vC_CjsHvNbLx10ZD3QA'"
      ]
     },
     "execution_count": 2,
     "metadata": {},
     "output_type": "execute_result"
    }
   ],
   "source": [
    "client.get_access_token()"
   ]
  },
  {
   "cell_type": "code",
   "execution_count": 3,
   "id": "999eeff1",
   "metadata": {},
   "outputs": [
    {
     "data": {
      "text/plain": [
       "'procaps1.sharepoint.com,8572d11c-9755-4721-9b30-b3806d4ea06d,a7039d31-9cb1-4dce-bffe-ab2dc62462f9'"
      ]
     },
     "execution_count": 3,
     "metadata": {},
     "output_type": "execute_result"
    }
   ],
   "source": [
    "client.get_site_id(site_url=\"procaps1.sharepoint.com/sites/VALIDEX/validex_documentos/15_PROTOCOLO%20DE%20VALIDACION.pdf\")"
   ]
  },
  {
   "cell_type": "code",
   "execution_count": 4,
   "id": "59bcad21",
   "metadata": {},
   "outputs": [],
   "source": [
    "client.download_file(\n",
    "    \"procaps1.sharepoint.com/sites/VALIDEX/validex_documentos/15_PROTOCOLO%20DE%20VALIDACION.pdf\",\n",
    "    local_path=\"data\",\n",
    "    file_name=\"PROTOCOLO.pdf\",\n",
    ")\n"
   ]
  },
  {
   "cell_type": "code",
   "execution_count": null,
   "id": "63335fff",
   "metadata": {},
   "outputs": [],
   "source": []
  }
 ],
 "metadata": {
  "kernelspec": {
   "display_name": "valida",
   "language": "python",
   "name": "python3"
  },
  "language_info": {
   "codemirror_mode": {
    "name": "ipython",
    "version": 3
   },
   "file_extension": ".py",
   "mimetype": "text/x-python",
   "name": "python",
   "nbconvert_exporter": "python",
   "pygments_lexer": "ipython3",
   "version": "3.13.7"
  }
 },
 "nbformat": 4,
 "nbformat_minor": 5
}
